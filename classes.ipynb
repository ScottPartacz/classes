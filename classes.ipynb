{
 "cells": [
  {
   "cell_type": "code",
   "execution_count": 5,
   "metadata": {},
   "outputs": [
    {
     "name": "stdout",
     "output_type": "stream",
     "text": [
      "12\n"
     ]
    }
   ],
   "source": [
    "class Animal:\n",
    "    def __init__(self,name,height,weight,age):\n",
    "        self._name = name\n",
    "        self._height = height\n",
    "        self._weight = weight\n",
    "        self._age = age\n",
    "\n",
    "    def move(self):\n",
    "        print(self._name + \" is moving\")\n",
    "\n",
    "class Book:\n",
    "    def __init__(self,name,author,pages,publisher):\n",
    "        self._name = name\n",
    "        self._author = author\n",
    "        self._pages = pages\n",
    "        self._publisher = publisher\n",
    "\n",
    "class Vehicle:\n",
    "    def __init__(self,name,wheels,model):\n",
    "        self._name = name\n",
    "        self._wheels = wheels\n",
    "        self._model = model\n",
    "        \n",
    "    def move(self):\n",
    "        print(self._name + \" is moving\")"
   ]
  }
 ],
 "metadata": {
  "interpreter": {
   "hash": "aab2652dd422b8952e87837d88345d2dc429e222c6ab5d96b6e49515aa907270"
  },
  "kernelspec": {
   "display_name": "Python 3.9.7 64-bit ('base': conda)",
   "language": "python",
   "name": "python3"
  },
  "language_info": {
   "codemirror_mode": {
    "name": "ipython",
    "version": 3
   },
   "file_extension": ".py",
   "mimetype": "text/x-python",
   "name": "python",
   "nbconvert_exporter": "python",
   "pygments_lexer": "ipython3",
   "version": "3.9.7"
  },
  "orig_nbformat": 4
 },
 "nbformat": 4,
 "nbformat_minor": 2
}
